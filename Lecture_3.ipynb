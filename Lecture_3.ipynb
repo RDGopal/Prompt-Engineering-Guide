{
  "nbformat": 4,
  "nbformat_minor": 0,
  "metadata": {
    "colab": {
      "provenance": [],
      "authorship_tag": "ABX9TyNead/UEGxEJpdBRbJTK+Pw",
      "include_colab_link": true
    },
    "kernelspec": {
      "name": "python3",
      "display_name": "Python 3"
    },
    "language_info": {
      "name": "python"
    }
  },
  "cells": [
    {
      "cell_type": "markdown",
      "metadata": {
        "id": "view-in-github",
        "colab_type": "text"
      },
      "source": [
        "<a href=\"https://colab.research.google.com/github/RDGopal/Prompt-Engineering-Guide/blob/main/Lecture_3.ipynb\" target=\"_parent\"><img src=\"https://colab.research.google.com/assets/colab-badge.svg\" alt=\"Open In Colab\"/></a>"
      ]
    },
    {
      "cell_type": "markdown",
      "source": [
        "# Topic Modeling\n",
        "Topic Modeling is a type of statistical modeling for discovering the abstract \"topics\" that occur in a collection of documents. It is a frequent technique in text mining for uncovering hidden semantic structures in a text body. This process is useful in various applications like organizing large archives of texts, summarizing information, and aiding in understanding the main themes of texts without reading them in full. We will look at several techniques for topic modeling including LDA, LSA, NMF and BERTopic.\n",
        "\n",
        "# Key Concepts for LDA\n",
        "**Latent Dirichlet Allocation (LDA)**\n",
        "\n",
        "LDA is the most popular topic modeling technique. It assumes documents are a mixture of topics and that topics are distributions over words. LDA back-calculates to find the set of topics that are likely to have generated the collection of documents.\n",
        "\n",
        "**Corpus and Dictionary**\n",
        "\n",
        "Corpus: A collection of text documents.\n",
        "\n",
        "Dictionary: A mapping of every unique word to an index.\n",
        "\n",
        "**Document-Term Matrix (DTM)**\n",
        "\n",
        "This matrix represents documents as rows and terms (words) as columns, with values representing the frequency of each term in each document. It is critical for analyzing and feeding data into LDA models.\n",
        "\n",
        "**Gibbs Sampling and Variational Inference**\n",
        "\n",
        "These are techniques for estimating the underlying probability distributions in LDA.\n",
        "\n",
        "**Perplexity and Coherence Score**\n",
        "\n",
        "Metrics used to evaluate the performance of a topic model. Lower perplexity and higher coherence scores generally indicate better model performance."
      ],
      "metadata": {
        "id": "uE8bZiPYuFd-"
      }
    },
    {
      "cell_type": "code",
      "source": [
        "import nltk\n",
        "from nltk.corpus import stopwords\n",
        "from nltk.stem import WordNetLemmatizer, PorterStemmer, SnowballStemmer"
      ],
      "metadata": {
        "id": "95lCXgr3wqu1"
      },
      "execution_count": null,
      "outputs": []
    },
    {
      "cell_type": "code",
      "source": [
        "nltk.download('punkt')\n",
        "nltk.download('stopwords')\n",
        "nltk.download('wordnet')\n",
        "# nltk.download() to look at options"
      ],
      "metadata": {
        "colab": {
          "base_uri": "https://localhost:8080/"
        },
        "id": "QAqJytSaw2ON",
        "outputId": "7398ac1f-4f34-49d8-aec6-b5e5162bd7ab"
      },
      "execution_count": null,
      "outputs": [
        {
          "output_type": "stream",
          "name": "stderr",
          "text": [
            "[nltk_data] Downloading package punkt to /root/nltk_data...\n",
            "[nltk_data]   Unzipping tokenizers/punkt.zip.\n",
            "[nltk_data] Downloading package stopwords to /root/nltk_data...\n",
            "[nltk_data]   Unzipping corpora/stopwords.zip.\n",
            "[nltk_data] Downloading package wordnet to /root/nltk_data...\n"
          ]
        },
        {
          "output_type": "execute_result",
          "data": {
            "text/plain": [
              "True"
            ]
          },
          "metadata": {},
          "execution_count": 2
        }
      ]
    },
    {
      "cell_type": "code",
      "source": [
        "import gensim\n",
        "from gensim.corpora import Dictionary\n",
        "from gensim.models import LdaModel"
      ],
      "metadata": {
        "id": "pQhxTxC-w_gl"
      },
      "execution_count": null,
      "outputs": []
    },
    {
      "cell_type": "code",
      "source": [
        "# Function to preprocess the data\n",
        "def preprocess_texts(documents):\n",
        "    stop_words = set(stopwords.words('english'))\n",
        "    lemmatizer = WordNetLemmatizer()\n",
        "\n",
        "    preprocessed_texts = []\n",
        "    for text in documents:\n",
        "        text = text.lower()\n",
        "        tokens = nltk.word_tokenize(text)\n",
        "        tokens = [token for token in tokens if token not in stop_words and token.isalpha()]\n",
        "        tokens = [lemmatizer.lemmatize(token) for token in tokens]\n",
        "        preprocessed_texts.append(tokens)  # Append list of tokens directly, without joining them into a string\n",
        "\n",
        "    return preprocessed_texts\n"
      ],
      "metadata": {
        "id": "_dZIXC-il2WQ"
      },
      "execution_count": null,
      "outputs": []
    },
    {
      "cell_type": "code",
      "execution_count": null,
      "metadata": {
        "id": "gunkoo8EuAg5"
      },
      "outputs": [],
      "source": [
        "# Sample data and preprocessing\n",
        "documents = [\n",
        "    \"Sugar is bad to consume. My sister likes to have sugar, but not my father.\",\n",
        "    \"My father spends a lot of time driving my brother around to baseball practice.\",\n",
        "    \"Some health experts suggest that driving may cause increased stress and blood pressure.\",\n",
        "    \"I often feel pressure to perform well at school, but my father never seems to drive my sister to do better.\",\n",
        "    \"Health professionals say that Sugar is not good for your lifestyle.\"\n",
        "]\n",
        "\n",
        "# 'texts' will be a list of lists of tokens\n",
        "texts = preprocess_texts(documents)\n",
        "\n",
        "dictionary = Dictionary(texts)\n",
        "\n",
        "# Create a document-term matrix\n",
        "corpus = [dictionary.doc2bow(text) for text in texts]\n"
      ]
    },
    {
      "cell_type": "code",
      "source": [
        "# Set parameters\n",
        "num_topics = 2\n",
        "passes = 10\n",
        "\n",
        "# Create the LDA model\n",
        "lda = LdaModel(corpus=corpus, id2word=dictionary, num_topics=num_topics, passes=passes)\n",
        "\n",
        "# Display the topics\n",
        "topics = lda.print_topics(num_words=5)\n",
        "for topic in topics:\n",
        "    print(topic)\n"
      ],
      "metadata": {
        "colab": {
          "base_uri": "https://localhost:8080/"
        },
        "id": "QXI8X2EU8GlT",
        "outputId": "633bbd5d-ab03-4987-8f47-6d394d77d9de"
      },
      "execution_count": null,
      "outputs": [
        {
          "output_type": "stream",
          "name": "stdout",
          "text": [
            "(0, '0.056*\"driving\" + 0.056*\"father\" + 0.055*\"baseball\" + 0.055*\"time\" + 0.055*\"around\"')\n",
            "(1, '0.066*\"sugar\" + 0.047*\"sister\" + 0.047*\"pressure\" + 0.047*\"health\" + 0.047*\"father\"')\n"
          ]
        }
      ]
    },
    {
      "cell_type": "markdown",
      "source": [
        "The variations in output each time you run an LDA model are due to the stochastic nature of the algorithms used in Latent Dirichlet Allocation. Here are the key reasons for these variations:\n",
        "\n",
        "Random Initialization: Most LDA implementations (including gensim) start with a random initialization of the topic assignments for each word. This randomness affects the subsequent updates and iterations of the algorithm.\n",
        "\n",
        "Sampling Methods: LDA often uses sampling methods like Gibbs sampling or variational Bayes inference to estimate the distributions of topics over words and documents. These methods inherently involve randomness, which can lead to different results each time the model is trained, especially if the number of iterations is not large enough to reach convergence.\n",
        "\n",
        "Convergence Issues: If the LDA model doesn't fully converge due to too few iterations or poor parameter settings (like learning rates), the output may vary significantly between runs. Achieving convergence in probabilistic models can be challenging and might require tuning parameters such as the number of iterations and choosing appropriate hyperparameters (like alpha and beta for LDA).\n",
        "\n",
        "Number of Topics: The choice of the number of topics (num_topics) can also influence the stability of your topics. Too few or too many topics can lead to overfitting or underfitting, respectively, making the model sensitive to initial conditions or specific samples of data.\n",
        "\n",
        "## Ensuring Consistency\n",
        "\n",
        "To reduce the variability in your LDA models, you can take the following steps:\n",
        "\n",
        "Set a Random Seed: Most LDA implementations allow you to set a random seed to make the results reproducible. This is done by fixing the seed for the random number generator used by the model.\n",
        "\n",
        "Increase the Number of Iterations: Allowing more iterations can help the model converge more consistently, which, in turn, makes the output more stable.\n",
        "\n",
        "Tune Hyperparameters: Adjusting the hyperparameters, such as alpha (document-topic density) and beta (topic-word density), can help in achieving better and more consistent results. These parameters control the sparsity of the topics extracted by the model.\n",
        "\n",
        "Extensive Preprocessing: More consistent and thorough preprocessing of the text data can lead to less noise in the input, which helps stabilize the output.\n",
        "\n",
        "```\n",
        "lda_model = LdaModel(\n",
        "    corpus=corpus,\n",
        "    id2word=dictionary,\n",
        "    num_topics=10,\n",
        "    random_state=100,\n",
        "    update_every=1,\n",
        "    chunksize=100,\n",
        "    passes=10,\n",
        "    alpha='auto',  # can be set as a scalar like '0.01' or 'auto' for learning the optimal alpha\n",
        "    eta='auto'     # eta is another name for beta in gensim, similarly settable\n",
        ")\n",
        "```\n",
        "\n",
        "\n"
      ],
      "metadata": {
        "id": "8QCbB1c389rT"
      }
    },
    {
      "cell_type": "code",
      "source": [
        "# Set parameters\n",
        "num_topics = 3\n",
        "passes = 100\n",
        "\n",
        "# Create the LDA model\n",
        "lda = LdaModel(corpus=corpus, id2word=dictionary, num_topics=num_topics, passes=passes,random_state=100)\n",
        "\n",
        "# Display the topics\n",
        "topics = lda.print_topics(num_words=5)\n",
        "for topic in topics:\n",
        "    print(topic)\n"
      ],
      "metadata": {
        "colab": {
          "base_uri": "https://localhost:8080/"
        },
        "id": "Fs40G5UJ9EAe",
        "outputId": "dd35f15b-189e-4ea8-a951-47ccb68a03c5"
      },
      "execution_count": null,
      "outputs": [
        {
          "output_type": "stream",
          "name": "stdout",
          "text": [
            "(0, '0.083*\"health\" + 0.048*\"driving\" + 0.048*\"increased\" + 0.048*\"may\" + 0.048*\"suggest\"')\n",
            "(1, '0.056*\"sister\" + 0.056*\"pressure\" + 0.056*\"perform\" + 0.056*\"often\" + 0.056*\"seems\"')\n",
            "(2, '0.084*\"sugar\" + 0.083*\"father\" + 0.048*\"spends\" + 0.048*\"baseball\" + 0.048*\"around\"')\n"
          ]
        }
      ]
    },
    {
      "cell_type": "markdown",
      "source": [
        "#Coherence Score\n",
        "Coherence measures the degree of semantic similarity between high scoring words in the topic. These scores help distinguish between topics that are semantically interpretable topics and topics that are artifacts of statistical inference."
      ],
      "metadata": {
        "id": "1NMB6kB9Eh3y"
      }
    },
    {
      "cell_type": "code",
      "source": [
        "from gensim.models.coherencemodel import CoherenceModel\n",
        "coherence_model_lda = CoherenceModel(model=lda, texts=texts, dictionary=dictionary, coherence='c_v')\n",
        "coherence_lda = coherence_model_lda.get_coherence()\n",
        "print('Coherence Score:', coherence_lda)\n"
      ],
      "metadata": {
        "colab": {
          "base_uri": "https://localhost:8080/"
        },
        "id": "K4YgR5cYEq8-",
        "outputId": "3b0732e3-2622-468e-88dd-c81eba996a52"
      },
      "execution_count": null,
      "outputs": [
        {
          "output_type": "stream",
          "name": "stdout",
          "text": [
            "Coherence Score: 0.35277825048982697\n"
          ]
        }
      ]
    },
    {
      "cell_type": "markdown",
      "source": [
        "# Number of Topics"
      ],
      "metadata": {
        "id": "VZtrrFSXFM2D"
      }
    },
    {
      "cell_type": "code",
      "source": [
        "import matplotlib.pyplot as plt\n",
        "\n",
        "# Range of topics to evaluate\n",
        "topic_range = range(2, 6)\n",
        "\n",
        "# List to store coherence\n",
        "coherence_scores = []\n",
        "\n",
        "for num_topics in topic_range:\n",
        "    lda = LdaModel(corpus=corpus, id2word=dictionary, num_topics=num_topics, passes=passes, random_state=100)\n",
        "    # Initialize CoherenceModel after training the LDA model\n",
        "    coherence_model_lda = CoherenceModel(model=lda, texts=texts, dictionary=dictionary, coherence='c_v')\n",
        "    coherence_lda = coherence_model_lda.get_coherence()\n",
        "\n",
        "    # Append the coherence score\n",
        "    coherence_scores.append(coherence_lda)\n",
        "\n",
        "print(coherence_scores)\n",
        "# Plotting\n",
        "plt.figure(figsize=(12, 6))\n",
        "plt.plot(topic_range, coherence_scores)\n",
        "plt.title(\"Coherence Scores vs Number of Topics\")\n",
        "plt.xlabel(\"Number of Topics\")\n",
        "plt.ylabel(\"Coherence score\")\n",
        "plt.tight_layout()\n",
        "plt.show()\n"
      ],
      "metadata": {
        "colab": {
          "base_uri": "https://localhost:8080/",
          "height": 624
        },
        "id": "Hb9s1BoZFQSZ",
        "outputId": "423f0913-a119-46c2-e15e-d8a6ecaee277"
      },
      "execution_count": null,
      "outputs": [
        {
          "output_type": "stream",
          "name": "stdout",
          "text": [
            "[0.3076742654074003, 0.35277825048982697, 0.36186683579444917, 0.3833486338856585]\n"
          ]
        },
        {
          "output_type": "display_data",
          "data": {
            "text/plain": [
              "<Figure size 1200x600 with 1 Axes>"
            ],
            "image/png": "[encoded data removed]"
          },
          "metadata": {}
        }
      ]
    },
    {
      "cell_type": "markdown",
      "source": [
        "# LSA and NMF\n",
        "Latent Semantic Analysis (LSA) and Non-negative Matrix Factorization (NMF) are techniques used for extracting topics from a set of documents, similar to Latent Dirichlet Allocation (LDA), but with different mathematical foundations and assumptions.\n",
        "\n",
        "Latent Semantic Analysis (LSA)\n",
        "LSA, also known as Latent Semantic Indexing (LSI) when applied to text documents, is primarily a technique for reducing the dimensions of text data. It utilizes singular value decomposition (SVD), a fundamental matrix factorization method, to decompose the term-document matrix (a matrix representation of the text data).\n",
        "\n",
        "How It Works:\n",
        "\n",
        "Matrix Representation: Documents are represented as a matrix, where rows correspond to terms (words) and columns correspond to documents.\n",
        "SVD: The matrix is decomposed into three smaller matrices\n",
        "�\n",
        "U,\n",
        "�\n",
        "S, and\n",
        "�\n",
        "�\n",
        "V\n",
        "T\n",
        "  using singular value decomposition:\n",
        "�\n",
        "U (term-concept matrix) contains terms and their associations to \"concepts\".\n",
        "�\n",
        "S (diagonal matrix) contains singular values that weigh each concept.\n",
        "�\n",
        "�\n",
        "V\n",
        "T\n",
        "  (concept-document matrix) links concepts to documents.\n",
        "Dimension Reduction: By truncating the matrices\n",
        "�\n",
        "U,\n",
        "�\n",
        "S, and\n",
        "�\n",
        "�\n",
        "V\n",
        "T\n",
        "  to keep only the top\n",
        "�\n",
        "k singular values (and corresponding vectors), LSA reduces the dimensionality, capturing the most significant underlying structures or \"concepts\".\n",
        "Interpretation: The truncated matrices reflect the most meaningful associations between terms and documents, effectively grouping similar terms and similar documents.\n",
        "Applications: LSA is used for noise reduction, improving the accuracy of text retrieval systems, and grouping similar documents and terms. It can also handle synonyms effectively by mapping related terms to similar concepts.\n",
        "\n",
        "Non-negative Matrix Factorization (NMF)\n",
        "Concept: NMF is another matrix factorization technique, but unlike SVD used in LSA, NMF imposes a non-negativity constraint on the matrices it decomposes. This constraint means all entries in the matrices are zero or positive, making the resulting components easier to interpret.\n",
        "\n",
        "How It Works:\n",
        "\n",
        "Matrix Representation: Similar to LSA, documents are represented in a matrix format.\n",
        "Factorization: NMF factorizes the matrix\n",
        "�\n",
        "V (documents as columns and features as rows) into two matrices\n",
        "�\n",
        "W (feature-component matrix) and\n",
        "�\n",
        "H (component-coefficient matrix):\n",
        "�\n",
        "W: Represents how much each feature contributes to each component (topic).\n",
        "�\n",
        "H: Represents how much each component contributes to each document.\n",
        "Constraints: Both\n",
        "�\n",
        "W and\n",
        "�\n",
        "H have only non-negative values, which aligns well with the additive nature of combining topics to form documents.\n",
        "Interpretation: Components (or topics) can be directly interpreted as clusters of words (from\n",
        "�\n",
        "W) that frequently occur together in similar documents.\n",
        "Applications: NMF is widely used in topic modeling where topics are represented as additive combinations of word frequencies and each document is a linear combination of topics. Its non-negative constraints often lead to a more interpretable decomposition than LSA or PCA.\n",
        "\n",
        "Comparison and Use Cases\n",
        "Interpretability: NMF often provides more interpretable topics than LSA because of the non-negativity constraint, which aligns better with the intuitive notion of adding up features to form a dataset.\n",
        "Handling of Synonyms and Polysemy: LSA can handle synonyms better due to its dimensional reduction approach, but it struggles with polysemy (words with multiple meanings) because all occurrences of a word are mapped to a single point in semantic space.\n",
        "Usage: LSA is often preferred for tasks involving similarity and information retrieval due to its robust handling of noise and ability to capture underlying semantic patterns. NMF is favored for clustering and classification tasks where interpretability of components (topics) is crucial.\n",
        "Both LSA and NMF are valuable tools in the text mining and information retrieval toolkit, chosen based on the specific requirements of clarity, ease of interpretation, and the nature of the text data."
      ],
      "metadata": {
        "id": "9Mn104ldIGUF"
      }
    },
    {
      "cell_type": "code",
      "source": [
        "from gensim.models import LdaModel,CoherenceModel,TfidfModel,Nmf,LsiModel"
      ],
      "metadata": {
        "id": "IE1nBgWAUYHM"
      },
      "execution_count": null,
      "outputs": []
    },
    {
      "cell_type": "code",
      "source": [
        "# train LSA model\n",
        "num_topics = 4\n",
        "lsa_model = LsiModel(corpus, num_topics=num_topics, id2word=dictionary,random_seed=100)\n",
        "topics = lsa_model.print_topics(num_words=5)\n",
        "for topic in topics:\n",
        "    print(topic)\n",
        "\n",
        "coherence_model_lsa = CoherenceModel(model=lsa_model, texts=texts, dictionary=dictionary, coherence='c_v')\n",
        "coherence_lsa = coherence_model_lsa.get_coherence()\n",
        "print('Coherence Score:', coherence_lsa)"
      ],
      "metadata": {
        "colab": {
          "base_uri": "https://localhost:8080/"
        },
        "id": "gRO7BenfTg_S",
        "outputId": "3a4c0471-edc1-406d-ee70-e9995b6aa222"
      },
      "execution_count": null,
      "outputs": [
        {
          "output_type": "stream",
          "name": "stdout",
          "text": [
            "(0, '0.406*\"father\" + 0.323*\"sister\" + 0.290*\"pressure\" + 0.273*\"sugar\" + 0.207*\"often\"')\n",
            "(1, '-0.359*\"driving\" + -0.304*\"health\" + -0.271*\"may\" + -0.271*\"blood\" + -0.271*\"increased\"')\n",
            "(2, '-0.594*\"sugar\" + -0.231*\"consume\" + -0.231*\"like\" + -0.231*\"bad\" + 0.225*\"pressure\"')\n",
            "(3, '0.298*\"lot\" + 0.298*\"spends\" + 0.298*\"brother\" + 0.298*\"practice\" + 0.298*\"around\"')\n",
            "Coherence Score: 0.28715627951357736\n"
          ]
        }
      ]
    },
    {
      "cell_type": "code",
      "source": [
        "# train NMF model\n",
        "nmf_model = Nmf(corpus,id2word=dictionary, num_topics=num_topics,passes=20,random_state=100)\n",
        "topics = nmf_model.print_topics(num_words=5)\n",
        "for topic in topics:\n",
        "    print(topic)\n",
        "\n",
        "coherence_model_nmf = CoherenceModel(model=nmf_model, texts=texts, dictionary=dictionary, coherence='c_v')\n",
        "coherence_nmf = coherence_model_nmf.get_coherence()\n",
        "print('Coherence Score:', coherence_nmf)\n"
      ],
      "metadata": {
        "colab": {
          "base_uri": "https://localhost:8080/"
        },
        "id": "o36mwfwrUs2q",
        "outputId": "82c09065-9011-4a0e-92ed-d78ca000bf24"
      },
      "execution_count": null,
      "outputs": [
        {
          "output_type": "stream",
          "name": "stdout",
          "text": [
            "(0, '0.168*\"health\" + 0.166*\"say\" + 0.166*\"lifestyle\" + 0.166*\"professional\" + 0.166*\"good\"')\n",
            "(1, '0.096*\"father\" + 0.063*\"around\" + 0.063*\"baseball\" + 0.063*\"time\" + 0.063*\"brother\"')\n",
            "(2, '0.102*\"pressure\" + 0.082*\"stress\" + 0.082*\"may\" + 0.082*\"expert\" + 0.082*\"increased\"')\n",
            "(3, '0.238*\"sugar\" + 0.136*\"sister\" + 0.125*\"father\" + 0.119*\"like\" + 0.119*\"bad\"')\n",
            "Coherence Score: 0.2597824319552638\n"
          ]
        }
      ]
    },
    {
      "cell_type": "markdown",
      "source": [
        "## BERT Topic Modeling\n",
        "BERTopic is a topic modeling tool that leverages transformers and language models like BERT for generating topics from textual data. Unlike traditional methods such as LDA, BERTopic utilizes contextual embeddings, which can capture the meanings of words more effectively in different contexts.\n",
        "\n",
        "Since the example we have used thus far is too small for this technique (due to embeddings - we will discuss this later), we will use the first 100 reviews from the ``Reviews.csv`` file."
      ],
      "metadata": {
        "id": "PLfkWvyMy-Wa"
      }
    },
    {
      "cell_type": "code",
      "source": [
        "pip install bertopic"
      ],
      "metadata": {
        "id": "8YLRjZ833e8B"
      },
      "execution_count": null,
      "outputs": []
    },
    {
      "cell_type": "code",
      "source": [
        "import nltk\n",
        "import pandas as pd\n",
        "from nltk.corpus import stopwords\n",
        "from nltk.tokenize import word_tokenize\n",
        "\n",
        "# Download necessary NLTK resources\n",
        "nltk.download('punkt')\n",
        "nltk.download('stopwords')"
      ],
      "metadata": {
        "colab": {
          "base_uri": "https://localhost:8080/"
        },
        "id": "Wk84c-g2H8TO",
        "outputId": "04374719-20d4-465f-e339-e002b7c53cc1"
      },
      "execution_count": 37,
      "outputs": [
        {
          "output_type": "stream",
          "name": "stderr",
          "text": [
            "[nltk_data] Downloading package punkt to /root/nltk_data...\n",
            "[nltk_data]   Package punkt is already up-to-date!\n",
            "[nltk_data] Downloading package stopwords to /root/nltk_data...\n",
            "[nltk_data]   Package stopwords is already up-to-date!\n"
          ]
        },
        {
          "output_type": "execute_result",
          "data": {
            "text/plain": [
              "True"
            ]
          },
          "metadata": {},
          "execution_count": 37
        }
      ]
    },
    {
      "cell_type": "code",
      "source": [
        "import pandas as pd\n",
        "\n",
        "# Load the dataset\n",
        "file_path = 'Reviews.csv'\n",
        "df = pd.read_csv(file_path)\n",
        "\n",
        "# Display the first few rows of the dataset and columns to identify the 'Review' column\n",
        "df.head(), df.columns\n"
      ],
      "metadata": {
        "id": "fVOLxvF770DI"
      },
      "execution_count": null,
      "outputs": []
    },
    {
      "cell_type": "code",
      "source": [
        "# Put it all into a function\n",
        "def preprocess_text(text):\n",
        "    # Lowercase\n",
        "    text = text.lower()\n",
        "    # Tokenize\n",
        "    tokens = nltk.word_tokenize(text)\n",
        "    # Remove stopwords\n",
        "    stop_words = set(stopwords.words('english'))\n",
        "    tokens = [token for token in tokens if token not in stop_words and token.isalpha()]\n",
        "    return ' '.join(tokens)"
      ],
      "metadata": {
        "id": "aK4Wuq1cHYPe"
      },
      "execution_count": 46,
      "outputs": []
    },
    {
      "cell_type": "code",
      "source": [
        "# Remove rows where 'Review' is NaN\n",
        "df = df.dropna(subset=['Review'])\n",
        "df['Review']= df['Review'].apply(preprocess_text)"
      ],
      "metadata": {
        "id": "5eT8BBgTIN1O"
      },
      "execution_count": 47,
      "outputs": []
    },
    {
      "cell_type": "code",
      "source": [
        "# Limit the dataset to the first 100 reviews\n",
        "limited_data= df['Review'].iloc[:100]\n",
        "\n",
        "# Check the reduced data\n",
        "print(limited_data.head())\n"
      ],
      "metadata": {
        "colab": {
          "base_uri": "https://localhost:8080/"
        },
        "id": "acHeNwe77_Ho",
        "outputId": "ac19a6cb-4640-46ed-c292-70c68015014d"
      },
      "execution_count": 48,
      "outputs": [
        {
          "output_type": "stream",
          "name": "stdout",
          "text": [
            "1    originally bought black white recently purchas...\n",
            "2    love tank material fit great love reversible h...\n",
            "3    love tank comfortable flaws rolls every time w...\n",
            "4    adore top comfy stylish wear little purple car...\n",
            "5    love sweater definite classic get lots complim...\n",
            "Name: Review, dtype: object\n"
          ]
        }
      ]
    },
    {
      "cell_type": "markdown",
      "source": [
        "### BERTopic"
      ],
      "metadata": {
        "id": "KQ1cM-NtKNum"
      }
    },
    {
      "cell_type": "code",
      "source": [
        "from bertopic import BERTopic"
      ],
      "metadata": {
        "id": "SW8rNKEwAvK4"
      },
      "execution_count": null,
      "outputs": []
    },
    {
      "cell_type": "code",
      "source": [
        "# Initialize BERTopic\n",
        "topic_model = BERTopic(language=\"english\", calculate_probabilities=True)\n",
        "\n",
        "# Fit the model on the limited data\n",
        "topics, probabilities = topic_model.fit_transform(limited_data)\n",
        "\n",
        "# Display the topic info\n",
        "topic_info = topic_model.get_topic_info()\n",
        "print(topic_info)\n",
        "\n",
        "# Optionally, print individual topics\n",
        "for topic in topic_model.get_topics().items():\n",
        "    print(topic)"
      ],
      "metadata": {
        "id": "E3m0Kqd-8Elg"
      },
      "execution_count": null,
      "outputs": []
    },
    {
      "cell_type": "markdown",
      "source": [
        "### Visualize"
      ],
      "metadata": {
        "id": "159lFcvKKTTu"
      }
    },
    {
      "cell_type": "code",
      "source": [
        "import matplotlib.pyplot as plt\n",
        "import numpy as np\n",
        "\n",
        "# Assuming 'topics' contains the output from BERTopic\n",
        "unique_topics, counts = np.unique(topics, return_counts=True)\n",
        "\n",
        "# Simple bar chart to show topic distribution\n",
        "plt.bar(unique_topics, counts, color='skyblue')\n",
        "plt.xlabel('Topic Number')\n",
        "plt.ylabel('Number of Documents')\n",
        "plt.title('Topic Distribution')\n",
        "plt.xticks(unique_topics)\n",
        "plt.show()\n",
        "\n"
      ],
      "metadata": {
        "colab": {
          "base_uri": "https://localhost:8080/",
          "height": 472
        },
        "id": "U82l9O13BBeI",
        "outputId": "c0fa752b-b584-406c-b1ad-cb2b9847a893"
      },
      "execution_count": 50,
      "outputs": [
        {
          "output_type": "display_data",
          "data": {
            "text/plain": [
              "<Figure size 640x480 with 1 Axes>"
            ],
            "image/png": "[encoded data removed]"
          },
          "metadata": {}
        }
      ]
    },
    {
      "cell_type": "markdown",
      "source": [
        "### Top terms for each topic"
      ],
      "metadata": {
        "id": "n3t72sS5KYTW"
      }
    },
    {
      "cell_type": "code",
      "source": [
        "data = topic_model.get_topics()\n",
        "rows = []\n",
        "for topic, terms in data.items():\n",
        "    for term, weight in terms:\n",
        "        rows.append({'topic': topic, 'term': term, 'weight': weight})\n",
        "df = pd.DataFrame(rows)\n",
        "sorted_df = df.sort_values(by=['topic', 'weight'], ascending=[True, False])\n",
        "print(sorted_df)"
      ],
      "metadata": {
        "colab": {
          "base_uri": "https://localhost:8080/"
        },
        "id": "-FZ0FJwQC6Xn",
        "outputId": "8a2a3e2b-efb6-4169-ef57-f8feee4a66a7"
      },
      "execution_count": 51,
      "outputs": [
        {
          "output_type": "stream",
          "name": "stdout",
          "text": [
            "    topic          term    weight\n",
            "0      -1      bralette  0.277402\n",
            "1      -1         every  0.133741\n",
            "2      -1          time  0.117307\n",
            "3      -1           aka  0.091328\n",
            "4      -1          glad  0.091328\n",
            "5      -1    bothersome  0.091328\n",
            "6      -1       durable  0.091328\n",
            "7      -1       becomes  0.091328\n",
            "8      -1         aside  0.091328\n",
            "9      -1  conversation  0.091328\n",
            "10      0          love  0.053336\n",
            "11      0          size  0.044888\n",
            "12      0          wear  0.040571\n",
            "13      0          suit  0.038235\n",
            "14      0       perfect  0.037820\n",
            "15      0          like  0.037381\n",
            "16      0   comfortable  0.036265\n",
            "17      0         would  0.034487\n",
            "18      0           fit  0.034250\n",
            "19      0         dress  0.032829\n",
            "20      1           bra  0.130700\n",
            "21      1          wear  0.070230\n",
            "22      1          fits  0.063373\n",
            "23      1          tank  0.057433\n",
            "24      1           cup  0.051241\n",
            "25      1         great  0.050432\n",
            "26      1          love  0.048261\n",
            "27      1          size  0.045491\n",
            "28      1           got  0.043337\n",
            "29      1          band  0.042789\n"
          ]
        }
      ]
    }
  ]
}