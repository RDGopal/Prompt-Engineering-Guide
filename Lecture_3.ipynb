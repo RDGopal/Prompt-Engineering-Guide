{
  "nbformat": 4,
  "nbformat_minor": 0,
  "metadata": {
    "colab": {
      "provenance": [],
      "authorship_tag": "ABX9TyNBpGvfqEkVj++gMswgkPvC",
      "include_colab_link": true
    },
    "kernelspec": {
      "name": "python3",
      "display_name": "Python 3"
    },
    "language_info": {
      "name": "python"
    }
  },
  "cells": [
    {
      "cell_type": "markdown",
      "metadata": {
        "id": "view-in-github",
        "colab_type": "text"
      },
      "source": [
        "<a href=\"https://colab.research.google.com/github/RDGopal/Prompt-Engineering-Guide/blob/main/Lecture_3.ipynb\" target=\"_parent\"><img src=\"https://colab.research.google.com/assets/colab-badge.svg\" alt=\"Open In Colab\"/></a>"
      ]
    },
    {
      "cell_type": "markdown",
      "source": [
        "# Topic Modeling\n",
        "Topic Modeling is a type of statistical modeling for discovering the abstract \"topics\" that occur in a collection of documents. It is a frequent technique in text mining for uncovering hidden semantic structures in a text body. This process is useful in various applications like organizing large archives of texts, summarizing information, and aiding in understanding the main themes of texts without reading them in full. We will look at several techniques for topic modeling including LDA, LSA, NMF and BERTopic.\n"
      ],
      "metadata": {
        "id": "uE8bZiPYuFd-"
      }
    },
    {
      "cell_type": "markdown",
      "source": [
        "## LDA"
      ],
      "metadata": {
        "id": "25yLd5ocYXUo"
      }
    },
    {
      "cell_type": "code",
      "source": [
        "import nltk\n",
        "from nltk.corpus import stopwords\n",
        "from nltk.stem import WordNetLemmatizer, PorterStemmer, SnowballStemmer"
      ],
      "metadata": {
        "id": "95lCXgr3wqu1"
      },
      "execution_count": 1,
      "outputs": []
    },
    {
      "cell_type": "code",
      "source": [
        "nltk.download('punkt')\n",
        "nltk.download('stopwords')\n",
        "nltk.download('wordnet')\n",
        "# nltk.download() to look at options"
      ],
      "metadata": {
        "colab": {
          "base_uri": "https://localhost:8080/"
        },
        "id": "QAqJytSaw2ON",
        "outputId": "c8dc84d7-f26a-4a3c-ece8-b88e40915dad"
      },
      "execution_count": 2,
      "outputs": [
        {
          "output_type": "stream",
          "name": "stderr",
          "text": [
            "[nltk_data] Downloading package punkt to /root/nltk_data...\n",
            "[nltk_data]   Unzipping tokenizers/punkt.zip.\n",
            "[nltk_data] Downloading package stopwords to /root/nltk_data...\n",
            "[nltk_data]   Unzipping corpora/stopwords.zip.\n",
            "[nltk_data] Downloading package wordnet to /root/nltk_data...\n"
          ]
        },
        {
          "output_type": "execute_result",
          "data": {
            "text/plain": [
              "True"
            ]
          },
          "metadata": {},
          "execution_count": 2
        }
      ]
    },
    {
      "cell_type": "code",
      "source": [
        "import gensim\n",
        "from gensim.corpora import Dictionary\n",
        "from gensim.models import LdaModel"
      ],
      "metadata": {
        "id": "pQhxTxC-w_gl"
      },
      "execution_count": 3,
      "outputs": []
    },
    {
      "cell_type": "code",
      "source": [
        "# Function to preprocess the data\n",
        "def preprocess_texts(documents):\n",
        "    stop_words = set(stopwords.words('english'))\n",
        "    lemmatizer = WordNetLemmatizer()\n",
        "\n",
        "    preprocessed_texts = []\n",
        "    for text in documents:\n",
        "        text = text.lower()\n",
        "        tokens = nltk.word_tokenize(text)\n",
        "        tokens = [token for token in tokens if token not in stop_words and token.isalpha()]\n",
        "        tokens = [lemmatizer.lemmatize(token) for token in tokens]\n",
        "        preprocessed_texts.append(tokens)  # Append list of tokens directly, without joining them into a string\n",
        "\n",
        "    return preprocessed_texts\n"
      ],
      "metadata": {
        "id": "_dZIXC-il2WQ"
      },
      "execution_count": 4,
      "outputs": []
    },
    {
      "cell_type": "code",
      "execution_count": 5,
      "metadata": {
        "id": "gunkoo8EuAg5"
      },
      "outputs": [],
      "source": [
        "# Sample data and preprocessing\n",
        "documents = [\n",
        "    \"Sugar is bad to consume. My sister likes to have sugar, but not my father.\",\n",
        "    \"My father spends a lot of time driving my brother around to baseball practice.\",\n",
        "    \"Some health experts suggest that driving may cause increased stress and blood pressure.\",\n",
        "    \"I often feel pressure to perform well at school, but my father never seems to drive my sister to do better.\",\n",
        "    \"Health professionals say that Sugar is not good for your lifestyle.\"\n",
        "]\n",
        "\n",
        "# 'texts' will be a list of lists of tokens\n",
        "texts = preprocess_texts(documents)\n",
        "\n",
        "dictionary = Dictionary(texts)\n",
        "\n",
        "# Create a document-term matrix\n",
        "corpus = [dictionary.doc2bow(text) for text in texts]\n"
      ]
    },
    {
      "cell_type": "code",
      "source": [
        "# Set parameters\n",
        "num_topics = 2\n",
        "passes = 10\n",
        "\n",
        "# Create the LDA model\n",
        "lda = LdaModel(corpus=corpus, id2word=dictionary, num_topics=num_topics, passes=passes)\n",
        "\n",
        "# Display the topics\n",
        "topics = lda.print_topics(num_words=5)\n",
        "for topic in topics:\n",
        "    print(topic)\n"
      ],
      "metadata": {
        "colab": {
          "base_uri": "https://localhost:8080/"
        },
        "id": "QXI8X2EU8GlT",
        "outputId": "ad19209f-f647-4339-e79f-3cf7bca97957"
      },
      "execution_count": 6,
      "outputs": [
        {
          "output_type": "stream",
          "name": "stdout",
          "text": [
            "(0, '0.046*\"driving\" + 0.046*\"health\" + 0.045*\"father\" + 0.045*\"sugar\" + 0.045*\"lot\"')\n",
            "(1, '0.053*\"sugar\" + 0.053*\"father\" + 0.053*\"pressure\" + 0.053*\"sister\" + 0.032*\"better\"')\n"
          ]
        }
      ]
    },
    {
      "cell_type": "markdown",
      "source": [
        "The variations in output each time you run an LDA model are due to the stochastic nature of the algorithms used in Latent Dirichlet Allocation. Here are the key reasons for these variations:\n",
        "\n",
        "* Random Initialization: Most LDA implementations (including gensim) start with a random initialization of the topic assignments for each word. This randomness affects the subsequent updates and iterations of the algorithm.\n",
        "\n",
        "* Sampling Methods: LDA often uses sampling methods like Gibbs sampling or variational Bayes inference to estimate the distributions of topics over words and documents. These methods inherently involve randomness, which can lead to different results each time the model is trained, especially if the number of iterations is not large enough to reach convergence.\n",
        "\n",
        "* Convergence Issues: If the LDA model doesn't fully converge due to too few iterations or poor parameter settings (like learning rates), the output may vary significantly between runs. Achieving convergence in probabilistic models can be challenging and might require tuning parameters such as the number of iterations and choosing appropriate hyperparameters (like alpha and beta for LDA).\n",
        "\n",
        "* Number of Topics: The choice of the number of topics (num_topics) can also influence the stability of your topics. Too few or too many topics can lead to overfitting or underfitting, respectively, making the model sensitive to initial conditions or specific samples of data.\n",
        "\n",
        "### Ensuring Consistency\n",
        "\n",
        "To reduce the variability in your LDA models, you can take the following steps:\n",
        "\n",
        "* Set a Random Seed: Most LDA implementations allow you to set a random seed to make the results reproducible. This is done by fixing the seed for the random number generator used by the model.\n",
        "\n",
        "* Increase the Number of Iterations: Allowing more iterations can help the model converge more consistently, which, in turn, makes the output more stable.\n",
        "\n",
        "* Tune Hyperparameters: Adjusting the hyperparameters, such as alpha (document-topic density) and beta (topic-word density), can help in achieving better and more consistent results. These parameters control the sparsity of the topics extracted by the model.\n",
        "\n",
        "* Extensive Preprocessing: More consistent and thorough preprocessing of the text data can lead to less noise in the input, which helps stabilize the output.\n",
        "\n",
        "```\n",
        "lda_model = LdaModel(\n",
        "    corpus=corpus,\n",
        "    id2word=dictionary,\n",
        "    num_topics=10,\n",
        "    random_state=100,\n",
        "    update_every=1,\n",
        "    chunksize=100,\n",
        "    passes=10,\n",
        "    alpha='auto',  # can be set as a scalar like '0.01' or 'auto' for learning the optimal alpha\n",
        "    eta='auto'     # eta is another name for beta in gensim, similarly settable\n",
        ")\n",
        "```\n",
        "\n",
        "\n"
      ],
      "metadata": {
        "id": "8QCbB1c389rT"
      }
    },
    {
      "cell_type": "code",
      "source": [
        "# Set parameters\n",
        "num_topics = 3\n",
        "passes = 100\n",
        "\n",
        "# Create the LDA model\n",
        "lda = LdaModel(corpus=corpus, id2word=dictionary, num_topics=num_topics, passes=passes,random_state=100)\n",
        "\n",
        "# Display the topics\n",
        "topics = lda.print_topics(num_words=5)\n",
        "for topic in topics:\n",
        "    print(topic)\n"
      ],
      "metadata": {
        "colab": {
          "base_uri": "https://localhost:8080/"
        },
        "id": "Fs40G5UJ9EAe",
        "outputId": "1772e9cc-e82f-4680-fbac-4b76d87e9be7"
      },
      "execution_count": 7,
      "outputs": [
        {
          "output_type": "stream",
          "name": "stdout",
          "text": [
            "(0, '0.083*\"health\" + 0.048*\"driving\" + 0.048*\"increased\" + 0.048*\"may\" + 0.048*\"suggest\"')\n",
            "(1, '0.056*\"sister\" + 0.056*\"pressure\" + 0.056*\"perform\" + 0.056*\"often\" + 0.056*\"seems\"')\n",
            "(2, '0.084*\"sugar\" + 0.083*\"father\" + 0.048*\"spends\" + 0.048*\"baseball\" + 0.048*\"around\"')\n"
          ]
        }
      ]
    },
    {
      "cell_type": "markdown",
      "source": [
        "#Coherence Score\n",
        "Coherence measures the degree of semantic similarity between high scoring words in the topic. These scores help distinguish between topics that are semantically interpretable topics and topics that are artifacts of statistical inference."
      ],
      "metadata": {
        "id": "1NMB6kB9Eh3y"
      }
    },
    {
      "cell_type": "code",
      "source": [
        "from gensim.models.coherencemodel import CoherenceModel\n",
        "coherence_model_lda = CoherenceModel(model=lda, texts=texts, dictionary=dictionary, coherence='c_v')\n",
        "coherence_lda = coherence_model_lda.get_coherence()\n",
        "print('Coherence Score:', coherence_lda)\n"
      ],
      "metadata": {
        "colab": {
          "base_uri": "https://localhost:8080/"
        },
        "id": "K4YgR5cYEq8-",
        "outputId": "07c2d9b0-2002-47f0-d74a-c45d18230f08"
      },
      "execution_count": 8,
      "outputs": [
        {
          "output_type": "stream",
          "name": "stdout",
          "text": [
            "Coherence Score: 0.35277825048982697\n"
          ]
        }
      ]
    },
    {
      "cell_type": "markdown",
      "source": [
        "# Number of Topics"
      ],
      "metadata": {
        "id": "VZtrrFSXFM2D"
      }
    },
    {
      "cell_type": "code",
      "source": [
        "import matplotlib.pyplot as plt\n",
        "\n",
        "# Range of topics to evaluate\n",
        "topic_range = range(2, 6)\n",
        "\n",
        "# List to store coherence\n",
        "coherence_scores = []\n",
        "\n",
        "for num_topics in topic_range:\n",
        "    lda = LdaModel(corpus=corpus, id2word=dictionary, num_topics=num_topics, passes=passes, random_state=100)\n",
        "    # Initialize CoherenceModel after training the LDA model\n",
        "    coherence_model_lda = CoherenceModel(model=lda, texts=texts, dictionary=dictionary, coherence='c_v')\n",
        "    coherence_lda = coherence_model_lda.get_coherence()\n",
        "\n",
        "    # Append the coherence score\n",
        "    coherence_scores.append(coherence_lda)\n",
        "\n",
        "print(coherence_scores)\n",
        "# Plotting\n",
        "plt.figure(figsize=(12, 6))\n",
        "plt.plot(topic_range, coherence_scores)\n",
        "plt.title(\"Coherence Scores vs Number of Topics\")\n",
        "plt.xlabel(\"Number of Topics\")\n",
        "plt.ylabel(\"Coherence score\")\n",
        "plt.tight_layout()\n",
        "plt.show()\n"
      ],
      "metadata": {
        "colab": {
          "base_uri": "https://localhost:8080/",
          "height": 503
        },
        "id": "Hb9s1BoZFQSZ",
        "outputId": "03566155-cb0e-41e7-d516-d094978a6d53"
      },
      "execution_count": 9,
      "outputs": [
        {
          "output_type": "stream",
          "name": "stdout",
          "text": [
            "[0.3076742654074003, 0.35277825048982697, 0.36186683579444917, 0.3833486338856585]\n"
          ]
        },
        {
          "output_type": "display_data",
          "data": {
            "text/plain": [
              "<Figure size 1200x600 with 1 Axes>"
            ],
            "image/png": "[encoded data removed]"
          },
          "metadata": {}
        }
      ]
    },
    {
      "cell_type": "markdown",
      "source": [
        "# LSA"
      ],
      "metadata": {
        "id": "9Mn104ldIGUF"
      }
    },
    {
      "cell_type": "code",
      "source": [
        "from gensim.models import LdaModel,CoherenceModel,TfidfModel,Nmf,LsiModel"
      ],
      "metadata": {
        "id": "IE1nBgWAUYHM"
      },
      "execution_count": 10,
      "outputs": []
    },
    {
      "cell_type": "code",
      "source": [
        "# train LSA model\n",
        "num_topics = 4\n",
        "lsa_model = LsiModel(corpus, num_topics=num_topics, id2word=dictionary,random_seed=100)\n",
        "topics = lsa_model.print_topics(num_words=5)\n",
        "for topic in topics:\n",
        "    print(topic)\n",
        "\n",
        "coherence_model_lsa = CoherenceModel(model=lsa_model, texts=texts, dictionary=dictionary, coherence='c_v')\n",
        "coherence_lsa = coherence_model_lsa.get_coherence()\n",
        "print('Coherence Score:', coherence_lsa)"
      ],
      "metadata": {
        "colab": {
          "base_uri": "https://localhost:8080/"
        },
        "id": "gRO7BenfTg_S",
        "outputId": "7918f661-aca3-451f-96ca-9deb7b283f8b"
      },
      "execution_count": 11,
      "outputs": [
        {
          "output_type": "stream",
          "name": "stdout",
          "text": [
            "(0, '0.406*\"father\" + 0.323*\"sister\" + 0.290*\"pressure\" + 0.273*\"sugar\" + 0.207*\"often\"')\n",
            "(1, '-0.359*\"driving\" + -0.304*\"health\" + -0.271*\"may\" + -0.271*\"blood\" + -0.271*\"increased\"')\n",
            "(2, '-0.594*\"sugar\" + -0.231*\"consume\" + -0.231*\"like\" + -0.231*\"bad\" + 0.225*\"pressure\"')\n",
            "(3, '0.298*\"lot\" + 0.298*\"spends\" + 0.298*\"brother\" + 0.298*\"practice\" + 0.298*\"around\"')\n",
            "Coherence Score: 0.28715627951357736\n"
          ]
        }
      ]
    },
    {
      "cell_type": "markdown",
      "source": [
        "##NMF"
      ],
      "metadata": {
        "id": "CGO6fN4DZL7w"
      }
    },
    {
      "cell_type": "code",
      "source": [
        "# train NMF model\n",
        "nmf_model = Nmf(corpus,id2word=dictionary, num_topics=num_topics,passes=20,random_state=100)\n",
        "topics = nmf_model.print_topics(num_words=5)\n",
        "for topic in topics:\n",
        "    print(topic)\n",
        "\n",
        "coherence_model_nmf = CoherenceModel(model=nmf_model, texts=texts, dictionary=dictionary, coherence='c_v')\n",
        "coherence_nmf = coherence_model_nmf.get_coherence()\n",
        "print('Coherence Score:', coherence_nmf)\n"
      ],
      "metadata": {
        "colab": {
          "base_uri": "https://localhost:8080/"
        },
        "id": "o36mwfwrUs2q",
        "outputId": "6df3b24d-8b66-429a-a1d4-b6c9d18bc2a4"
      },
      "execution_count": 12,
      "outputs": [
        {
          "output_type": "stream",
          "name": "stdout",
          "text": [
            "(0, '0.168*\"health\" + 0.166*\"say\" + 0.166*\"lifestyle\" + 0.166*\"professional\" + 0.166*\"good\"')\n",
            "(1, '0.096*\"father\" + 0.063*\"around\" + 0.063*\"baseball\" + 0.063*\"time\" + 0.063*\"brother\"')\n",
            "(2, '0.102*\"pressure\" + 0.082*\"stress\" + 0.082*\"may\" + 0.082*\"expert\" + 0.082*\"increased\"')\n",
            "(3, '0.238*\"sugar\" + 0.136*\"sister\" + 0.125*\"father\" + 0.119*\"like\" + 0.119*\"bad\"')\n",
            "Coherence Score: 0.2597824319552638\n"
          ]
        }
      ]
    },
    {
      "cell_type": "markdown",
      "source": [
        "##LSA vs NMF\n",
        "* Comparison and Use Cases Interpretability: NMF often provides more interpretable topics than LSA because of the non-negativity constraint, which aligns better with the intuitive notion of adding up features to form a dataset.\n",
        "* Handling of Synonyms and Polysemy: LSA can handle synonyms better due to its dimensional reduction approach, but it struggles with polysemy (words with multiple meanings) because all occurrences of a word are mapped to a single point in semantic space.\n",
        "* Usage: LSA is often preferred for tasks involving similarity and information retrieval due to its robust handling of noise and ability to capture underlying semantic patterns. NMF is favored for clustering and classification tasks where interpretability of components (topics) is crucial.\n",
        "\n",
        " Both LSA and NMF are valuable tools in the text mining and information retrieval toolkit, chosen based on the specific requirements of clarity, ease of interpretation, and the nature of the text data."
      ],
      "metadata": {
        "id": "nTn7UfZvZOYf"
      }
    },
    {
      "cell_type": "markdown",
      "source": [
        "## BERT Topic Modeling\n",
        "BERTopic is a topic modeling tool that leverages transformers and language models like BERT for generating topics from textual data. Unlike traditional methods such as LDA, BERTopic utilizes contextual embeddings, which can capture the meanings of words more effectively in different contexts.\n",
        "\n",
        "Since the example we have used thus far is too small for this technique (due to embeddings - we will discuss this later), we will use the first 100 reviews from the ``Reviews.csv`` file."
      ],
      "metadata": {
        "id": "PLfkWvyMy-Wa"
      }
    },
    {
      "cell_type": "code",
      "source": [
        "%pip install bertopic"
      ],
      "metadata": {
        "id": "8YLRjZ833e8B"
      },
      "execution_count": null,
      "outputs": []
    },
    {
      "cell_type": "code",
      "source": [
        "import nltk\n",
        "import pandas as pd\n",
        "from nltk.corpus import stopwords\n",
        "from nltk.tokenize import word_tokenize\n",
        "\n",
        "# Download necessary NLTK resources\n",
        "nltk.download('punkt')\n",
        "nltk.download('stopwords')"
      ],
      "metadata": {
        "colab": {
          "base_uri": "https://localhost:8080/"
        },
        "id": "Wk84c-g2H8TO",
        "outputId": "fedf9467-3d32-482c-92d4-a30518bb2ee6"
      },
      "execution_count": 14,
      "outputs": [
        {
          "output_type": "stream",
          "name": "stderr",
          "text": [
            "[nltk_data] Downloading package punkt to /root/nltk_data...\n",
            "[nltk_data]   Package punkt is already up-to-date!\n",
            "[nltk_data] Downloading package stopwords to /root/nltk_data...\n",
            "[nltk_data]   Package stopwords is already up-to-date!\n"
          ]
        },
        {
          "output_type": "execute_result",
          "data": {
            "text/plain": [
              "True"
            ]
          },
          "metadata": {},
          "execution_count": 14
        }
      ]
    },
    {
      "cell_type": "code",
      "source": [
        "import pandas as pd\n",
        "\n",
        "# Load the dataset and read the first 100 rows\n",
        "file_path = 'Reviews.csv'\n",
        "df = pd.read_csv(file_path,nrows=100)\n",
        "\n",
        "# Display the first few rows of the dataset and columns to identify the 'Review' column\n",
        "df.head(), df.columns\n"
      ],
      "metadata": {
        "id": "fVOLxvF770DI"
      },
      "execution_count": null,
      "outputs": []
    },
    {
      "cell_type": "code",
      "source": [
        "# Put it all into a function\n",
        "def preprocess_text(text):\n",
        "    # Lowercase\n",
        "    text = text.lower()\n",
        "    # Tokenize\n",
        "    tokens = nltk.word_tokenize(text)\n",
        "    # Remove stopwords\n",
        "    stop_words = set(stopwords.words('english'))\n",
        "    tokens = [token for token in tokens if token not in stop_words and token.isalpha()]\n",
        "    return ' '.join(tokens)"
      ],
      "metadata": {
        "id": "aK4Wuq1cHYPe"
      },
      "execution_count": 18,
      "outputs": []
    },
    {
      "cell_type": "code",
      "source": [
        "# Remove rows where 'Review' is NaN\n",
        "df = df.dropna(subset=['Review'])\n",
        "df['Review']= df['Review'].apply(preprocess_text)"
      ],
      "metadata": {
        "id": "5eT8BBgTIN1O"
      },
      "execution_count": null,
      "outputs": []
    },
    {
      "cell_type": "markdown",
      "source": [
        "### BERTopic"
      ],
      "metadata": {
        "id": "KQ1cM-NtKNum"
      }
    },
    {
      "cell_type": "code",
      "source": [
        "from bertopic import BERTopic"
      ],
      "metadata": {
        "id": "SW8rNKEwAvK4"
      },
      "execution_count": 20,
      "outputs": []
    },
    {
      "cell_type": "code",
      "source": [
        "# Initialize BERTopic\n",
        "topic_model = BERTopic(language=\"english\", calculate_probabilities=True)\n",
        "\n",
        "# Fit the model on the limited data\n",
        "topics, probabilities = topic_model.fit_transform(df['Review'])\n",
        "\n",
        "# Display the topic info\n",
        "topic_info = topic_model.get_topic_info()\n",
        "print(topic_info)\n",
        "\n",
        "# Optionally, print individual topics\n",
        "for topic in topic_model.get_topics().items():\n",
        "    print(topic)"
      ],
      "metadata": {
        "id": "E3m0Kqd-8Elg"
      },
      "execution_count": null,
      "outputs": []
    },
    {
      "cell_type": "markdown",
      "source": [
        "### Visualize"
      ],
      "metadata": {
        "id": "159lFcvKKTTu"
      }
    },
    {
      "cell_type": "code",
      "source": [
        "import matplotlib.pyplot as plt\n",
        "import numpy as np\n",
        "\n",
        "# Assuming 'topics' contains the output from BERTopic\n",
        "unique_topics, counts = np.unique(topics, return_counts=True)\n",
        "\n",
        "# Simple bar chart to show topic distribution\n",
        "plt.bar(unique_topics, counts, color='skyblue')\n",
        "plt.xlabel('Topic Number')\n",
        "plt.ylabel('Number of Documents')\n",
        "plt.title('Topic Distribution')\n",
        "plt.xticks(unique_topics)\n",
        "plt.show()\n",
        "\n"
      ],
      "metadata": {
        "colab": {
          "base_uri": "https://localhost:8080/",
          "height": 472
        },
        "id": "U82l9O13BBeI",
        "outputId": "c2bee70b-2f78-4247-ecb0-aecf80a1bbfb"
      },
      "execution_count": 23,
      "outputs": [
        {
          "output_type": "display_data",
          "data": {
            "text/plain": [
              "<Figure size 640x480 with 1 Axes>"
            ],
            "image/png": "[encoded data removed]"
          },
          "metadata": {}
        }
      ]
    },
    {
      "cell_type": "markdown",
      "source": [
        "### Top terms for each topic"
      ],
      "metadata": {
        "id": "n3t72sS5KYTW"
      }
    },
    {
      "cell_type": "code",
      "source": [
        "data = topic_model.get_topics()\n",
        "rows = []\n",
        "for topic, terms in data.items():\n",
        "    for term, weight in terms:\n",
        "        rows.append({'topic': topic, 'term': term, 'weight': weight})\n",
        "df = pd.DataFrame(rows)\n",
        "sorted_df = df.sort_values(by=['topic', 'weight'], ascending=[True, False])\n",
        "print(sorted_df)"
      ],
      "metadata": {
        "colab": {
          "base_uri": "https://localhost:8080/"
        },
        "id": "-FZ0FJwQC6Xn",
        "outputId": "fc2e1edb-3633-406f-addf-c94574ec6f02"
      },
      "execution_count": 24,
      "outputs": [
        {
          "output_type": "stream",
          "name": "stdout",
          "text": [
            "    topic         term    weight\n",
            "0      -1         tank  0.127168\n",
            "1      -1     bralette  0.090874\n",
            "2      -1       natori  0.071193\n",
            "3      -1  comfortable  0.066840\n",
            "4      -1       fabric  0.061774\n",
            "5      -1         cute  0.060179\n",
            "6      -1         wear  0.058768\n",
            "7      -1         back  0.057468\n",
            "8      -1         love  0.054644\n",
            "9      -1      receive  0.053767\n",
            "10      0         love  0.056411\n",
            "11      0         size  0.052630\n",
            "12      0         suit  0.044997\n",
            "13      0      perfect  0.042630\n",
            "14      0         like  0.041608\n",
            "15      0         wear  0.036834\n",
            "16      0          fit  0.035525\n",
            "17      0        dress  0.034650\n",
            "18      0       bought  0.033505\n",
            "19      0        would  0.033505\n",
            "20      1          bra  0.139311\n",
            "21      1         fits  0.067590\n",
            "22      1         wear  0.063925\n",
            "23      1          cup  0.054916\n",
            "24      1         size  0.048308\n",
            "25      1        great  0.047809\n",
            "26      1          got  0.047341\n",
            "27      1         band  0.045891\n",
            "28      1       straps  0.040986\n",
            "29      1       enough  0.039819\n"
          ]
        }
      ]
    },
    {
      "cell_type": "markdown",
      "source": [
        "# Some practical considerations"
      ],
      "metadata": {
        "id": "71COunlbSclg"
      }
    },
    {
      "cell_type": "code",
      "source": [
        "# Load the dataset and read the first 100 rows\n",
        "file_path = 'Reviews.csv'\n",
        "df = pd.read_csv(file_path,nrows=100)"
      ],
      "metadata": {
        "id": "vXxZZY6DSf4Y"
      },
      "execution_count": 25,
      "outputs": []
    },
    {
      "cell_type": "markdown",
      "source": [
        "## Preprocessing\n",
        "Depending on the context, you may want to focus on terms that have a particular part-of-speech. For this case, let's only keep terms that are nouns and adjectives. Here are the steps to modify the `preprocess_text` function:\n",
        "\n",
        "* Tokenize the text.\n",
        "* Use part-of-speech tagging to identify the POS of each token.\n",
        "* Filter out tokens that are not nouns or adjectives.\n",
        "* Remove stopwords and non-alphabetic tokens.\n",
        "* Join the tokens back into a string."
      ],
      "metadata": {
        "id": "uPFV6PeJSv5m"
      }
    },
    {
      "cell_type": "code",
      "source": [
        "import nltk\n",
        "from nltk.corpus import stopwords\n",
        "from nltk.tokenize import word_tokenize\n",
        "from nltk import pos_tag\n",
        "\n",
        "nltk.download('averaged_perceptron_tagger')\n",
        "\n",
        "def preprocess_text(text):\n",
        "    # Lowercase\n",
        "    text = text.lower()\n",
        "\n",
        "    # Tokenize\n",
        "    tokens = nltk.word_tokenize(text)\n",
        "\n",
        "    # Part-of-speech tagging\n",
        "    tagged_tokens = nltk.pos_tag(tokens)\n",
        "\n",
        "    # Filter tokens that are nouns or adjectives\n",
        "    # NN* for nouns, JJ* for adjectives\n",
        "    tokens = [word for word, tag in tagged_tokens if tag in ['NN', 'NNS', 'NNP', 'NNPS', 'JJ', 'JJR', 'JJS']]\n",
        "\n",
        "    # Remove stopwords\n",
        "    stop_words = set(stopwords.words('english'))\n",
        "    tokens = [token for token in tokens if token not in stop_words and token.isalpha()]\n",
        "\n",
        "    return ' '.join(tokens)\n"
      ],
      "metadata": {
        "colab": {
          "base_uri": "https://localhost:8080/"
        },
        "id": "pAf_2YSYSwUo",
        "outputId": "426f1084-3b38-41fa-814a-b860a7c91566"
      },
      "execution_count": 26,
      "outputs": [
        {
          "output_type": "stream",
          "name": "stderr",
          "text": [
            "[nltk_data] Downloading package averaged_perceptron_tagger to\n",
            "[nltk_data]     /root/nltk_data...\n",
            "[nltk_data]   Unzipping taggers/averaged_perceptron_tagger.zip.\n"
          ]
        }
      ]
    },
    {
      "cell_type": "code",
      "source": [
        "# Remove rows where 'Review' is NaN\n",
        "df = df.dropna(subset=['Review'])\n",
        "df['Review']= df['Review'].apply(preprocess_text)"
      ],
      "metadata": {
        "id": "mvcM-T1iS3D4"
      },
      "execution_count": 27,
      "outputs": []
    },
    {
      "cell_type": "code",
      "source": [
        "df[['Review']]"
      ],
      "metadata": {
        "id": "hmqIelpiTBOY"
      },
      "execution_count": null,
      "outputs": []
    },
    {
      "cell_type": "code",
      "source": [
        "# 'texts' will be a list of lists of tokens\n",
        "texts = preprocess_texts(df['Review'])\n",
        "\n",
        "dictionary = Dictionary(texts)\n",
        "\n",
        "# Create a document-term matrix\n",
        "corpus = [dictionary.doc2bow(text) for text in texts]"
      ],
      "metadata": {
        "id": "QIdBFK8ETTJg"
      },
      "execution_count": 29,
      "outputs": []
    },
    {
      "cell_type": "markdown",
      "source": [
        "## LDA"
      ],
      "metadata": {
        "id": "GhDzy62AYFaX"
      }
    },
    {
      "cell_type": "code",
      "source": [
        "# Set parameters\n",
        "num_topics = 2\n",
        "passes = 10\n",
        "\n",
        "# Create the LDA model\n",
        "lda = LdaModel(corpus=corpus, id2word=dictionary, num_topics=num_topics, passes=passes)\n",
        "\n",
        "# Display the topics\n",
        "topics = lda.print_topics(num_words=10)\n",
        "for topic in topics:\n",
        "    print(topic)\n"
      ],
      "metadata": {
        "colab": {
          "base_uri": "https://localhost:8080/"
        },
        "id": "N5TWdzogTaXo",
        "outputId": "0119d9ca-fbb0-43b4-e8c2-8af1728af840"
      },
      "execution_count": 33,
      "outputs": [
        {
          "output_type": "stream",
          "name": "stdout",
          "text": [
            "(0, '0.026*\"size\" + 0.015*\"suit\" + 0.013*\"perfect\" + 0.013*\"bra\" + 0.013*\"great\" + 0.012*\"fit\" + 0.010*\"small\" + 0.010*\"time\" + 0.010*\"color\" + 0.010*\"dress\"')\n",
            "(1, '0.018*\"comfortable\" + 0.012*\"much\" + 0.012*\"color\" + 0.012*\"perfect\" + 0.012*\"fit\" + 0.011*\"soft\" + 0.010*\"bra\" + 0.009*\"lace\" + 0.009*\"great\" + 0.009*\"size\"')\n"
          ]
        }
      ]
    },
    {
      "cell_type": "markdown",
      "source": [
        "## Choose the number of topics"
      ],
      "metadata": {
        "id": "M_64FJi2YJdv"
      }
    },
    {
      "cell_type": "code",
      "source": [
        "import matplotlib.pyplot as plt\n",
        "\n",
        "# Range of topics to evaluate\n",
        "topic_range = range(2, 6)\n",
        "\n",
        "# List to store coherence\n",
        "coherence_scores = []\n",
        "\n",
        "for num_topics in topic_range:\n",
        "    lda = LdaModel(corpus=corpus, id2word=dictionary, num_topics=num_topics, passes=passes, random_state=100)\n",
        "    # Initialize CoherenceModel after training the LDA model\n",
        "    coherence_model_lda = CoherenceModel(model=lda, texts=texts, dictionary=dictionary, coherence='c_v')\n",
        "    coherence_lda = coherence_model_lda.get_coherence()\n",
        "\n",
        "    # Append the coherence score\n",
        "    coherence_scores.append(coherence_lda)\n",
        "\n",
        "print(coherence_scores)\n",
        "# Plotting\n",
        "plt.figure(figsize=(12, 6))\n",
        "plt.plot(topic_range, coherence_scores)\n",
        "plt.title(\"Coherence Scores vs Number of Topics\")\n",
        "plt.xlabel(\"Number of Topics\")\n",
        "plt.ylabel(\"Coherence score\")\n",
        "plt.tight_layout()\n",
        "plt.show()"
      ],
      "metadata": {
        "colab": {
          "base_uri": "https://localhost:8080/",
          "height": 503
        },
        "id": "NeAfflQ7T5UA",
        "outputId": "8e540277-0559-4e47-978e-f9d63329333b"
      },
      "execution_count": 34,
      "outputs": [
        {
          "output_type": "stream",
          "name": "stdout",
          "text": [
            "[0.2775663720454346, 0.3028677466800543, 0.33696836370938066, 0.3266251284126911]\n"
          ]
        },
        {
          "output_type": "display_data",
          "data": {
            "text/plain": [
              "<Figure size 1200x600 with 1 Axes>"
            ],
            "image/png": "[encoded data removed]"
          },
          "metadata": {}
        }
      ]
    },
    {
      "cell_type": "code",
      "source": [
        "# Set optimal number of topics\n",
        "num_topics = 4\n",
        "passes = 10\n",
        "\n",
        "# Create the LDA model\n",
        "lda = LdaModel(corpus=corpus, id2word=dictionary, num_topics=num_topics, passes=passes)\n",
        "\n",
        "# Display the topics\n",
        "topics = lda.print_topics(num_words=10)\n",
        "for topic in topics:\n",
        "    print(topic)"
      ],
      "metadata": {
        "colab": {
          "base_uri": "https://localhost:8080/"
        },
        "id": "t6LYb8oFUbJ4",
        "outputId": "007f5d9c-5ffd-498f-e145-bddb14b99b2d"
      },
      "execution_count": 35,
      "outputs": [
        {
          "output_type": "stream",
          "name": "stdout",
          "text": [
            "(0, '0.035*\"suit\" + 0.018*\"coverage\" + 0.015*\"top\" + 0.012*\"look\" + 0.012*\"leg\" + 0.009*\"pant\" + 0.009*\"good\" + 0.009*\"bit\" + 0.009*\"super\" + 0.009*\"bottom\"')\n",
            "(1, '0.015*\"dress\" + 0.013*\"small\" + 0.013*\"fit\" + 0.013*\"comfortable\" + 0.013*\"size\" + 0.011*\"year\" + 0.011*\"time\" + 0.011*\"first\" + 0.011*\"tank\" + 0.011*\"soft\"')\n",
            "(2, '0.041*\"size\" + 0.029*\"bra\" + 0.018*\"great\" + 0.014*\"fit\" + 0.012*\"cup\" + 0.012*\"small\" + 0.012*\"little\" + 0.012*\"quality\" + 0.010*\"comfortable\" + 0.010*\"medium\"')\n",
            "(3, '0.029*\"perfect\" + 0.027*\"color\" + 0.016*\"dress\" + 0.014*\"comfortable\" + 0.013*\"lace\" + 0.012*\"fabric\" + 0.012*\"great\" + 0.012*\"much\" + 0.012*\"short\" + 0.012*\"soft\"')\n"
          ]
        }
      ]
    },
    {
      "cell_type": "markdown",
      "source": [
        "## Visualize"
      ],
      "metadata": {
        "id": "vStwGjpNVXYW"
      }
    },
    {
      "cell_type": "markdown",
      "source": [
        "### Print top 5 terms in each topic"
      ],
      "metadata": {
        "id": "vOCx3jdyWspe"
      }
    },
    {
      "cell_type": "code",
      "source": [
        "# Print the top 5 terms for each topic\n",
        "for topic_id in range(num_topics):\n",
        "    top_terms = lda.show_topic(topic_id, topn=5)  # Get the top 5 terms for this topic\n",
        "    terms = ', '.join([term for term, _ in top_terms])\n",
        "    print(f\"Topic {topic_id}: {terms}\")"
      ],
      "metadata": {
        "colab": {
          "base_uri": "https://localhost:8080/"
        },
        "id": "9DUJZCKJWgRW",
        "outputId": "294a487d-679f-4891-f796-8f827c92c254"
      },
      "execution_count": 38,
      "outputs": [
        {
          "output_type": "stream",
          "name": "stdout",
          "text": [
            "Topic 0: suit, coverage, top, look, leg\n",
            "Topic 1: dress, small, fit, comfortable, size\n",
            "Topic 2: size, bra, great, fit, cup\n",
            "Topic 3: perfect, color, dress, comfortable, lace\n"
          ]
        },
        {
          "output_type": "stream",
          "name": "stderr",
          "text": [
            "/usr/local/lib/python3.10/dist-packages/ipykernel/ipkernel.py:283: DeprecationWarning: `should_run_async` will not call `transform_cell` automatically in the future. Please pass the result to `transformed_cell` argument and any exception that happen during thetransform in `preprocessing_exc_tuple` in IPython 7.17 and above.\n",
            "  and should_run_async(code)\n"
          ]
        }
      ]
    },
    {
      "cell_type": "markdown",
      "source": [
        "## Interactive Web-based Visualization"
      ],
      "metadata": {
        "id": "_xk_K_zpWwq3"
      }
    },
    {
      "cell_type": "code",
      "source": [
        "%pip install pyLDAvis"
      ],
      "metadata": {
        "id": "rIKw-02BVZif"
      },
      "execution_count": null,
      "outputs": []
    },
    {
      "cell_type": "code",
      "source": [
        "import pyLDAvis\n",
        "import pyLDAvis.gensim_models as gensimvis\n",
        "\n",
        "# Assume `lda` is the LDA model and `corpus` and `dictionary` are your corpus and dictionary from Gensim\n",
        "\n",
        "# Prepare the visualization data\n",
        "vis_data = gensimvis.prepare(lda, corpus, dictionary)\n",
        "\n",
        "# Display the visualization in a Jupyter Notebook (or in an IPython environment)\n",
        "pyLDAvis.display(vis_data)\n",
        "\n",
        "# To save the visualization as an HTML file\n",
        "pyLDAvis.save_html(vis_data, 'lda_visualization.html')\n"
      ],
      "metadata": {
        "colab": {
          "base_uri": "https://localhost:8080/"
        },
        "id": "3WzkBgvwVfHA",
        "outputId": "ed587182-cfdb-4fb2-ef45-68b2e2e75835"
      },
      "execution_count": 37,
      "outputs": [
        {
          "output_type": "stream",
          "name": "stderr",
          "text": [
            "/usr/local/lib/python3.10/dist-packages/joblib/externals/loky/backend/fork_exec.py:38: RuntimeWarning: os.fork() was called. os.fork() is incompatible with multithreaded code, and JAX is multithreaded, so this will likely lead to a deadlock.\n",
            "  pid = os.fork()\n"
          ]
        }
      ]
    }
  ]
}